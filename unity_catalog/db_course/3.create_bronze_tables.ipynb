{
 "cells": [
  {
   "cell_type": "code",
   "execution_count": 0,
   "metadata": {
    "application/vnd.databricks.v1+cell": {
     "cellMetadata": {
      "byteLimit": 2048000,
      "rowLimit": 10000
     },
     "inputWidgets": {},
     "nuid": "f2cb9694-9772-4f5e-97fb-864f93f3ed1c",
     "showTitle": false,
     "tableResultSettingsMap": {},
     "title": ""
    }
   },
   "outputs": [],
   "source": [
    "DROP TABLE IF EXISTS formula1_dev.bronze.drivers;\n",
    "\n",
    "CREATE TABLE IF NOT EXISTS formula1_dev.bronze.drivers\n",
    "(\n",
    "  driverId INT,\n",
    "  driverRef STRING,\n",
    "  number INT,\n",
    "  code STRING,\n",
    "  name STRUCT<forename: STRING, surname: STRING>,\n",
    "  dob DATE,\n",
    "  nationality STRING,\n",
    "  url STRING\n",
    ")\n",
    "\n",
    "USING json\n",
    "OPTIONS (path \"abfss://bronze@dbscourseucextdl.dfs.core.windows.net/drivers.json\");"
   ]
  },
  {
   "cell_type": "code",
   "execution_count": 0,
   "metadata": {
    "application/vnd.databricks.v1+cell": {
     "cellMetadata": {
      "byteLimit": 2048000,
      "rowLimit": 10000
     },
     "inputWidgets": {},
     "nuid": "60fe40e0-ddce-43fc-bd87-df4aa1e0e5e2",
     "showTitle": false,
     "tableResultSettingsMap": {},
     "title": ""
    }
   },
   "outputs": [],
   "source": [
    "DROP TABLE IF EXISTS formula1_dev.bronze.results;\n",
    "\n",
    "CREATE TABLE IF NOT EXISTS formula1_dev.bronze.results\n",
    "(\n",
    "  resultId INT,\n",
    "  raceId INT,\n",
    "  driverId INT,\n",
    "  constructorId INT,\n",
    "  number INT,\n",
    "  grid INT,\n",
    "  position INT,\n",
    "  positionText STRING,\n",
    "  positionOrder INT,\n",
    "  points INT,\n",
    "  laps INT,\n",
    "  time STRING,\n",
    "  milliseconds INT,\n",
    "  fastestLap INT,\n",
    "  rank INT,\n",
    "  fastestLapTime STRING,\n",
    "  fastestLapSpeed FLOAT,\n",
    "  statusId STRING\n",
    ")\n",
    "\n",
    "USING json\n",
    "OPTIONS (path \"abfss://bronze@dbscourseucextdl.dfs.core.windows.net/results.json\");"
   ]
  },
  {
   "cell_type": "code",
   "execution_count": 0,
   "metadata": {
    "application/vnd.databricks.v1+cell": {
     "cellMetadata": {},
     "inputWidgets": {},
     "nuid": "eddd0f8d-49c0-4aa3-8ec6-2b38d530a0ef",
     "showTitle": false,
     "tableResultSettingsMap": {},
     "title": ""
    }
   },
   "outputs": [],
   "source": []
  }
 ],
 "metadata": {
  "application/vnd.databricks.v1+notebook": {
   "computePreferences": null,
   "dashboards": [],
   "environmentMetadata": {
    "base_environment": "",
    "environment_version": "2"
   },
   "inputWidgetPreferences": null,
   "language": "sql",
   "notebookMetadata": {
    "pythonIndentUnit": 4
   },
   "notebookName": "3.create_bronze_tables",
   "widgets": {}
  },
  "language_info": {
   "name": "sql"
  }
 },
 "nbformat": 4,
 "nbformat_minor": 0
}
