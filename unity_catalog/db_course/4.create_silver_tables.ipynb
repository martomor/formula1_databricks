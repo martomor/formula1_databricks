{
 "cells": [
  {
   "cell_type": "markdown",
   "metadata": {
    "application/vnd.databricks.v1+cell": {
     "cellMetadata": {
      "byteLimit": 2048000,
      "rowLimit": 10000
     },
     "inputWidgets": {},
     "nuid": "5216d2a8-99d4-49ab-b612-893c0d5bab0f",
     "showTitle": false,
     "tableResultSettingsMap": {},
     "title": ""
    }
   },
   "source": [
    "# Create managed tables in the silver Schema\n",
    "1. drivers\n",
    "2. results"
   ]
  },
  {
   "cell_type": "code",
   "execution_count": 0,
   "metadata": {
    "application/vnd.databricks.v1+cell": {
     "cellMetadata": {
      "byteLimit": 2048000,
      "rowLimit": 10000
     },
     "inputWidgets": {},
     "nuid": "e5ccd8b6-5a1e-4bd7-a0be-e10bdb9b43a1",
     "showTitle": false,
     "tableResultSettingsMap": {},
     "title": ""
    }
   },
   "outputs": [],
   "source": [
    "DROP TABLE IF EXISTS formula1_dev.silver.drivers;\n",
    "\n",
    "CREATE TABLE IF NOT EXISTS formula1_dev.silver.drivers\n",
    "AS\n",
    "SELECT \n",
    "  driverId         AS driver_id,\n",
    "  driverRef        AS driver_ref,\n",
    "  number,\n",
    "  code,\n",
    "  concat(name.forename, ' ', name.surname) AS name,\n",
    "  dob,\n",
    "  nationality,\n",
    "  current_timestamp() AS ingestion_date\n",
    "FROM formula1_dev.bronze.drivers;"
   ]
  },
  {
   "cell_type": "code",
   "execution_count": 0,
   "metadata": {
    "application/vnd.databricks.v1+cell": {
     "cellMetadata": {
      "byteLimit": 2048000,
      "rowLimit": 10000
     },
     "inputWidgets": {},
     "nuid": "1b3513ee-4915-4c4d-a85c-4f827012f4e3",
     "showTitle": false,
     "tableResultSettingsMap": {},
     "title": ""
    }
   },
   "outputs": [],
   "source": [
    "DROP TABLE IF EXISTS formula1_dev.silver.results;\n",
    "\n",
    "CREATE TABLE IF NOT EXISTS formula1_dev.silver.results\n",
    "AS\n",
    "SELECT\n",
    "    resultId         AS result_id,\n",
    "    raceId           AS race_id,\n",
    "    driverId         AS driver_id,\n",
    "    constructorId    AS constructor_id,\n",
    "    number,\n",
    "    grid,\n",
    "    position         AS position_text,\n",
    "    positionOrder    AS position_order,\n",
    "    points,\n",
    "    laps,\n",
    "    time,\n",
    "    milliseconds,\n",
    "    fastestLap,\n",
    "    rank,\n",
    "    fastestLapTime   AS fastest_lap_time,\n",
    "    fastestLapSpeed  AS fastest_lap_speed,\n",
    "    statusId,\n",
    "    current_timestamp() AS ingestion_date\n",
    "FROM formula1_dev.bronze.results;"
   ]
  },
  {
   "cell_type": "code",
   "execution_count": 0,
   "metadata": {
    "application/vnd.databricks.v1+cell": {
     "cellMetadata": {
      "byteLimit": 2048000,
      "rowLimit": 10000
     },
     "inputWidgets": {},
     "nuid": "683eaa2d-f641-4236-9381-b6b801605190",
     "showTitle": false,
     "tableResultSettingsMap": {},
     "title": ""
    }
   },
   "outputs": [],
   "source": []
  }
 ],
 "metadata": {
  "application/vnd.databricks.v1+notebook": {
   "computePreferences": null,
   "dashboards": [],
   "environmentMetadata": {
    "base_environment": "",
    "environment_version": "2"
   },
   "inputWidgetPreferences": null,
   "language": "sql",
   "notebookMetadata": {
    "pythonIndentUnit": 4
   },
   "notebookName": "4.create_silver_tables",
   "widgets": {}
  },
  "language_info": {
   "name": "sql"
  }
 },
 "nbformat": 4,
 "nbformat_minor": 0
}
